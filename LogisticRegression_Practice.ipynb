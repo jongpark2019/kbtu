{
  "cells": [
    {
      "cell_type": "markdown",
      "metadata": {
        "id": "view-in-github",
        "colab_type": "text"
      },
      "source": [
        "<a href=\"https://colab.research.google.com/github/jongpark2019/kbtu/blob/main/LogisticRegression_Practice.ipynb\" target=\"_parent\"><img src=\"https://colab.research.google.com/assets/colab-badge.svg\" alt=\"Open In Colab\"/></a>"
      ]
    },
    {
      "cell_type": "markdown",
      "metadata": {
        "id": "sEmOZPUVX_h1"
      },
      "source": [
        "# Logistic Regression\n",
        "<p align=\"justify\">In this practice, we introduce how to implement logistic regression with Python. The logistic regression model will be optimized using SGD algorithm which was introduced in SGD_Practice[].</p>"
      ]
    },
    {
      "cell_type": "markdown",
      "source": [
        "## Theory of Logistic Regression\n",
        "<p align=\"justify\">The logis regression is formally defined as: given N samples in a dataset $\\{(x_i,y_i ):i=1,2,..,n\\}$, find a function $h_w (x)$ that minimizes the cost (or loss) function $L(w)$, cross-entropy (CE) error function: \n",
        "$$\n",
        "L(w)=  -\\frac{1}{n} \\sum_{i=1}^{n}(y_i \\log h_w (x_i) + (1 - y_i )\\log(1- h_w (x_i))) \n",
        "$$\n",
        "Here, the logistic function $h_w(x) = \\frac{1}{1+e^{-wx}}$ is used for prediction. Prediciton is actually a binary classification with true or false. If $h_w(x)$ > threshold, the prediction is true, otherwise the prediction is false. As for the linear regression, we would like to find the value of $w$ which minimizes the cost function $L(w)$ on the given dataset. Note that log in the equation $L(w)$ means the natural logarithm. The logistic function is also called sigmoid function. Below, we plot the $\\sigma(z)$ where $z = wx$. </p>"
      ],
      "metadata": {
        "id": "-rrYYtQ2kx21"
      }
    },
    {
      "cell_type": "code",
      "source": [
        "# Import matplotlib, numpy and math\n",
        "import matplotlib.pyplot as plt\n",
        "import numpy as np\n",
        "import math\n",
        "\n",
        "z = np.linspace(-10, 10, 100)\n",
        "sigma_z = 1/(1 + np.exp(-z))\n",
        "  \n",
        "plt.plot(z, sigma_z)\n",
        "plt.xlabel(\"z\")\n",
        "plt.ylabel(\"Sigmoid(z)\")\n",
        "  \n",
        "plt.show()"
      ],
      "metadata": {
        "colab": {
          "base_uri": "https://localhost:8080/",
          "height": 279
        },
        "id": "VHDoxtpFRzv1",
        "outputId": "1ddbdcb8-0207-482d-9d06-6935817f410f"
      },
      "execution_count": null,
      "outputs": [
        {
          "output_type": "display_data",
          "data": {
            "image/png": "[encoded data removed]",
            "text/plain": [
              "<Figure size 432x288 with 1 Axes>"
            ]
          },
          "metadata": {
            "needs_background": "light"
          }
        }
      ]
    },
    {
      "cell_type": "markdown",
      "source": [
        "## Example\n",
        "\n",
        "<p align=\"justify\">For the example of logistic regression with SGD, let’s consider a toy example of taking test to get a driver licence. The test usually consists of both written test and practice test. Here, it is assumed that you already passed the practice test, and you need to take a written test. The dataset in Table below shows the pass (1) or fail (0) results, based only on the score of the written test. The questions is that when you get the score 60, marked X in the graph shown below, will you pass or fail for getting the lincence ? It is also assumed that the score threshold determining fail/pass is not open, so you don't know whether you will pass or fail with the score 60. This kind of problem is known as logistic regression. Contrasting to the linear regression, you want to predict Pass/Fail (or True/False).  \n",
        "\n",
        "| x (score)| y (pass or fail) | \n",
        "|:----------:|:-------------:|\n",
        "| 30 |  0 | \n",
        "| 90 | 1  |  \n",
        "| 50 | 0 |\n",
        "| 65 |  1 |\n",
        "| 70 |  1 |\n",
        "| 40 |  0 |\n",
        "\n",
        "</p>\n",
        "\n",
        "Next, we illustrate the logistic regression using SGD algorithm, step by step.  The dataset is plotted at the figure below where x and y are score and pass/fail for getting driver licence, respectively. Note that for the computational efficiencly, the values of score are divided by 10.\n",
        "</p>"
      ],
      "metadata": {
        "id": "b82GyjLwtK3X"
      }
    },
    {
      "cell_type": "code",
      "source": [
        "import numpy as np\n",
        "import matplotlib.pyplot as plt\n",
        "\n",
        "# Dataset\n",
        "dataset = np.array([[.30,  0],\n",
        "                    [.90,  1],\n",
        "                    [.50,  0],\n",
        "                    [.65,  1],\n",
        "                    [.70,  1],\n",
        "                    [.40,  0]])\n",
        "x = dataset[:, 0]\n",
        "y = dataset[:, 1]\n",
        " \n",
        "# Show the dataset\n",
        "plt.figure(figsize=(5, 3))\n",
        "plt.title('score (x) vs fail/pass (y)')\n",
        "plt.scatter(x, y, color = \"m\", marker = \"o\", s = 30)\n",
        "plt.scatter(0.6, 0.5, color = \"b\", marker = \"x\", s = 70)\n",
        "plt.xlabel('x')\n",
        "plt.ylabel('y')\n",
        "plt.show()\n"
      ],
      "metadata": {
        "id": "WCu_LMT5FP5T",
        "colab": {
          "base_uri": "https://localhost:8080/",
          "height": 241
        },
        "outputId": "b933b311-3bfc-450c-9aec-a0f026250106"
      },
      "execution_count": null,
      "outputs": [
        {
          "output_type": "display_data",
          "data": {
            "image/png": "[encoded data removed]",
            "text/plain": [
              "<Figure size 360x216 with 1 Axes>"
            ]
          },
          "metadata": {
            "needs_background": "light"
          }
        }
      ]
    },
    {
      "cell_type": "markdown",
      "metadata": {
        "id": "xUpkPOn_X_iD"
      },
      "source": [
        "## Minimizing the Cross-Entropy Loss Function\n",
        "<p align=\"justify\"> With a logistic function for the hypothesis function, i.e., $h_w(x) = \\frac{1}{1+e^{-wx}}$, we get the loss fuction for logistic regression with $L(w)$:\n",
        "$$\n",
        "L(w)=  -\\frac{1}{n} \\sum_{i=1}^{n}(y_i\\log \\sigma(wx_i) + (1 - y_i )\\log(1- \\sigma(wx_i))) \n",
        "$$\n",
        "where $\\sigma(wx_i)$ is defined as $\\frac{1}{1+e^{-wx}}$.\n",
        "Now, we want to optimize the model  $\\sigma(wx_i)$ by adjusting the parameter $w$ so that the cross-entropy error (CE) along all samples in the dataset is minimized. We apply the SGD (stochastic gradient descent) algorithm to obtain the optimal solution. As descriced previously[], the SGD works by taking the gradient of the loss function $L(w)$ with respect to the parameter $w$ at a specific position on the loss function, and updates the parameters in the direction of the negative gradient. The parameter $w$ is iteratively updated by taking steps proportional to the negative of the gradient:\n",
        "$w ← w - η∇L(w)$. Here, $\\nabla L(w)$ is defined as:\n",
        "$$\n",
        "\\nabla L(w) = \\frac{\\partial L(w)}{\\partial w}\n",
        "$$\n",
        "For notational simplification, let $o_i = \\sigma(wx_i)$ and $z_i = wx_i$. Then, $o_i = \\sigma(z_i) = \\frac{1}{1+e^{-z_i}}$. In other words, $o_i$ is the predicted output for the sample input $x_i$. Then, \n",
        "$$\n",
        "L(w)=  -\\frac{1}{n} \\sum_{i=1}^{n}(y_i\\log o_i + (1 - y_i )\\log(1- o_i)) \n",
        "$$\n",
        "Using the chain rule of differential equation $[g(h(x))]^{'}$ = $g^{'}(h(x))h^{'}(x)$,\n",
        "$$\n",
        "\\frac{\\partial L(w)}{\\partial w} = \\sum_{i=1}^{n}\\frac{\\partial L(w)}{\\partial o_i}\\frac{\\partial o_i}{\\partial z_i}\\frac{\\partial z_i}{\\partial w}\n",
        "$$\n",
        "For a specific sample $k$, we can canculate that: \n",
        "$$\n",
        "\\frac{\\partial L(w)}{\\partial o_k}  =  -\\frac{1}{n} \\left\\{ \\frac {y_k \\partial \\log o_k}{\\partial o_k} + \\frac {(1-y_k)\\partial \\log(1- o_k)}{\\partial o_k}  \\right\\}\n",
        "$$\n",
        "This results in:\n",
        "$$\n",
        "\\frac{\\partial L(w)}{\\partial o_k}  = -\\frac{1}{n} \\left\\{\\frac{y_k}{o_k} - \n",
        "\\frac{1-y_k}{1-o_k}\\right\\}\n",
        "$$\n",
        "Also, for a specific sample $k$,  \n",
        "$$\n",
        "\\frac{\\partial o_k}{\\partial z_k} = \\frac {\\partial (\\frac {1}{1+e^{-z_k}})}{\\partial z_k} = \\frac {e^{-z_k}}{(1+e^{-z_k})^2} = \\frac {1}{(1+e^{-z_k})}(1 - \\frac {1}{(1+e^{-z_k})}) = o_k (1 - o_k)\n",
        "$$\n",
        "And since $z_k = wx_k$, we obtain:\n",
        "$$\\frac{\\partial z_k}{\\partial w} = x_k$$\n",
        "So, by simple calculation, we obtain:\n",
        "$$\n",
        "\\frac{\\partial L(w)}{\\partial w} = -\\frac{1}{n} \\sum_{i=1}^{n} \\left\\{\\frac{y_i}{o_i} - \\frac{1-y_i}{1-o_i}\\right\\} o_i (1 - o_i)  x_i = \\frac{1}{n} \\sum_{i=1}^{n}(o_i - y_i ) x_i\n",
        "$$\n",
        "Finally, the full update function $\\nabla L(w)$ for the entire dataset will become:\n",
        "$$\n",
        "\\nabla L(w) = \\frac{\\partial L(w)}{\\partial w} = \\frac{1}{n} \\sum_{i=1}^{n}(o_i - y_i )x_i = \\frac {1}{n} \\sum_{i=1}^{n}(\\sigma(wx_i) - y_i )x_i \n",
        "$$\n",
        "This formula is actually identical to $\\nabla L(w)$ for the linear regression, except that $o_i$ is different. For the case of linear regression, $o_i$ = $wx_i$ []. Note that the formula is for batch gradient descent, and  In other words, all the gradients are caculated and summed up before updating the parameter $w$.  Using mini-batch SGD, a set of mini-batches which are selected randomly can be processed for both train and inference. As in the case of linear regression, $(o_i - y_i ) x_i$ is the gradient for the sample $i$. For online SGD, the weight is updated with $\\nabla L(w)$ = $(o_i - y_i ) x_i$. </p> \n",
        "\n",
        "<p align=\"justify\">Below, we have implemented the logistic regression with Python, using gradient descent agorithm.  </p>"
      ]
    },
    {
      "cell_type": "markdown",
      "source": [
        "## Implementation of Logistic Regression with Mini-batch SGD\n",
        "<p align=\"justify\"> SGD first randomly divides the datset into mini-batches and for each minibatch, the gradient is computed and all parameters are updated. After all mini-batches are used, the next iteration can start until the stopping criteria are met. The stopping criteria usually checks for the convergence. \n",
        "Comparing with the code of the linear regression with SGD, the hypothesis function h(x,w) and the loss function are changed. The sigmoid function is newly added for calculation of h(x,w). Function gradient() and function SGD() are identical to those for linear regression [].</p>"
      ],
      "metadata": {
        "id": "O6YZZBXF3hd1"
      }
    },
    {
      "cell_type": "code",
      "source": [
        "import numpy as np\n",
        "import matplotlib.pyplot as plt\n",
        "\n",
        "np.random.seed(45) # set the seed value\n",
        "\n",
        "def sigmoid(x):\n",
        "    \"\"\" Logistic function \"\"\"\n",
        "    return 1.0/(1+ np.exp(-x))\n",
        "\n",
        "def h(x, w):\n",
        "    \"\"\"Hypothesis function h(x) = sigmoid (x * w)\"\"\"\n",
        "    return sigmoid(x * w)\n",
        "\n",
        "def loss(o, y):\n",
        "    \"\"\"Cross-entropy error function\"\"\"\n",
        "    return -np.mean(y*np.log(o) + (1-y)*np.log(1-o)) # np.log is natural logarithm\n",
        "\n",
        "\n",
        "def gradient(x, w, y):\n",
        "    \"\"\"Gradient function\"\"\"\n",
        "    return x * (h(x, w) - y)\n",
        "\n",
        "def SGD(n_iter):\n",
        "    \"\"\" Mini-batch gradient descent optimization\"\"\"\n",
        "\n",
        "    # Initialize learning rate and weight \n",
        "    eta = 0.7 # learning rate\n",
        "    w = 0.05  # Initialize weight\n",
        "    data = dataset.copy() # get a copy of dataset for shuffling\n",
        "\n",
        "    # Perform mini-batch SGD optimization\n",
        "    for i in range(n_iter):\n",
        "\n",
        "        np.random.shuffle(data) # Randomize the dataset\n",
        "        x = data[:, 0] # Get input data\n",
        "        y = data[:, 1] # Get target data\n",
        "        loss_sum = 0  \n",
        "\n",
        "        for j in range(num_batch): # Iterate over mini-batches of dataset\n",
        "            x_batch = x[batch_size * j: batch_size * (j+1)]    # Get a mini-batch of input data x\n",
        "            y_batch = y[batch_size * j: batch_size * (j+1)]   # Get a mini-batch of target data y\n",
        " \n",
        "            dw = np.mean(gradient(x_batch, w, y_batch)) # Compute gradient estimates ∇L(w) \n",
        "            w = w - eta* dw  # Update parameters using the formula  w←w−η∇w\n",
        "            loss_sum += loss(h(x_batch, w), y_batch) # Sum up losses of mini-batches \n",
        "\n",
        "        if (i % 10) == 0:\n",
        "            loss_avg.append(loss_sum / num_batch) # Get average of mimi-batch loss\n",
        "\n",
        "    return w, loss_avg        \n",
        "\n",
        "if __name__ == \"__main__\":\n",
        "\n",
        "    # Dataset\n",
        "    dataset = np.array([[.30,  0],\n",
        "                        [.90,  1],\n",
        "                        [.50,  0],\n",
        "                        [.65,  1],\n",
        "                        [.70,  1],\n",
        "                        [.40,  0]])\n",
        "\n",
        "    batch_size = 6  # Size of mini-batch data\n",
        "    num_batch = int(dataset.shape[0]/batch_size)  # Number of mini-batches\n",
        "    loss_avg = [] # Loss average\n",
        "\n",
        "    w, loss_avg = SGD(500)\n",
        "    print(f'Value of weight parameter w:{w: .4f}')\n",
        "    print(f'Prediction output with the score 60:{h(0.9863, 0.60): .4f}')  \n",
        "    \n",
        "    # Show the average loss of mini-batch\n",
        "    plt.figure(figsize=(6, 4))\n",
        "    iter_count = range(1, len(loss_avg) + 1)\n",
        "    plt.plot(iter_count, loss_avg, 'b-')\n",
        "    plt.title('Loss vs iteration')\n",
        "    plt.legend(['Loss'])\n",
        "    plt.xlabel('Iteration x10')\n",
        "    plt.ylabel('Loss')\n",
        "    plt.show()"
      ],
      "metadata": {
        "colab": {
          "base_uri": "https://localhost:8080/",
          "height": 330
        },
        "id": "Qlj0TG63KeBE",
        "outputId": "7f11f6ac-fbbf-40c2-c075-f0d56886764e"
      },
      "execution_count": null,
      "outputs": [
        {
          "output_type": "stream",
          "name": "stdout",
          "text": [
            "Value of weight parameter w: 0.9843\n",
            "Prediction output with the score 60: 0.6438\n"
          ]
        },
        {
          "output_type": "display_data",
          "data": {
            "image/png": "[encoded data removed]",
            "text/plain": [
              "<Figure size 432x288 with 1 Axes>"
            ]
          },
          "metadata": {
            "needs_background": "light"
          }
        }
      ]
    },
    {
      "cell_type": "markdown",
      "source": [
        "<p align=\"justify\"> After training, we have obtained the weight value 0.9843.  Applying this weight value and new score 60 to the hypothesis function, i.e, h(0.9843, 60), we get prediction output with a real value 0.6438. What does this value of 0.6438 imply ? How do we intrepret and get the meamingful prediction ? In order to answer these questions, we need to define a threshold for determing pass or fail based on the prediction output from the hypothesis function h(w,x). As in linear regression, the performance of loss vs iteration is shown. \n",
        "</p>"
      ],
      "metadata": {
        "id": "9LrKhNBknzkt"
      }
    },
    {
      "cell_type": "markdown",
      "source": [
        "## Threshold for correct prediction\n",
        "<p align=\"justify\">We can see the prediction output values for the entire input data. In order to  set a proper value of threshold, we have used the average score of the dataset as a threshold value. As desribed in code below, with the average score to determine pass/fail of the dataset, the prediction is identical to pass/fail of the dataset. Applying this threshold for determiniing the pass/fail of the new score 60, it is found that the score 60 will pass the written test for the licence. You can experiment that the new score 55 will result in fail for the test. The setting proper threshold is essential to correct predition for the dataset.  In exercise, you can experment that the prediction is dependent on the threshold value.</p>"
      ],
      "metadata": {
        "id": "azjLp3LPk1DA"
      }
    },
    {
      "cell_type": "code",
      "source": [
        "score = h(dataset[:, 0], w) # get predicted output values for input data \n",
        "threshold = np.average(score) # get average of predicted output values\n",
        "# print(threshold)\n",
        "\n",
        "# Get prediction with threshold of average of output values. \n",
        "prediction = [1 if (score[i] > threshold) else 0 for i in range(len(score))] \n",
        "print('Prediction for the dataset with average threshold:', prediction)\n",
        "\n",
        "# Get prediction for new score x\n",
        "w, _ = SGD(500) \n",
        "x = 0.60\n",
        "#x = 0.55\n",
        "new_score = h(w, x)\n",
        "if new_score > threshold:\n",
        "  print(f'Score {x * 100: .1f} is predicted to pass the written test.')\n",
        "else:\n",
        "  print(f'Score {x * 100: .1f} is predicted to fail the written test.')"
      ],
      "metadata": {
        "colab": {
          "base_uri": "https://localhost:8080/"
        },
        "id": "F3IU85YWmcSx",
        "outputId": "2ca30d6c-f974-4dc2-c512-587ff546983f"
      },
      "execution_count": null,
      "outputs": [
        {
          "output_type": "stream",
          "name": "stdout",
          "text": [
            "Prediction for the dataset with average threshold: [0, 1, 0, 1, 1, 0]\n",
            "Score  60.0 is predicted to pass the written test.\n"
          ]
        }
      ]
    },
    {
      "cell_type": "markdown",
      "source": [
        "## Exercise: Get predictions by varing the treshold value to threshold+0.02, threshold-0.02 and others. "
      ],
      "metadata": {
        "id": "EOP7d06zoU8q"
      }
    },
    {
      "cell_type": "code",
      "source": [
        "# Get prediction with higher threshold  \n",
        "prediction_high = [1 if (score[i] > threshold+0.02) else 0 for i in range(len(score))] \n",
        "print(f'Prediction with higher treshold value: {prediction_high}')"
      ],
      "metadata": {
        "colab": {
          "base_uri": "https://localhost:8080/"
        },
        "id": "XRYlqjD0wo6r",
        "outputId": "b6c97e69-81b1-4705-9c35-97ef43b30063"
      },
      "execution_count": null,
      "outputs": [
        {
          "output_type": "stream",
          "name": "stdout",
          "text": [
            "Prediction with higher treshold value: [0, 1, 0, 0, 1, 0]\n"
          ]
        }
      ]
    },
    {
      "cell_type": "markdown",
      "source": [
        "## Peformance Metrics for Logistic Regression\n",
        "<p align=\"justify\"> There are different metrics to measure the performance of any classifier including binary classifier, i.e., the logistic regression. These metrics include confusion metrics, accuracy, precions, recall, specificity, F-1 score, and AUC-ROC curve. </p>\n",
        "<p align=\"justify\"> For the above example, the confusion matrix summarizes results such as true positive (1), true negative (0), false positive (1), and false negative (0). You may  refer to the reference[] for defition of these concept. The accuracy measures the faction of correct predictions. Precision measures the fraction of correct positive predictions from all the positive predictions. Recall measures the fraction of positive predictions from all the positive samples. Classfication report shows all these metrics together.</p>\n",
        "<p align=\"justify\"> For skewed dataset where only small portion of dataset samples is positive (or negative), the accuracy may not indicate correctly how good the performance is. In this case, precision and recall are important performance metrics. However, there is a tradoff betweem precision and recall, so that F-1 score is often used to compensate for the limitation of the accuracy for the skewed dataset.F-1 score is a weighted average of the precision and recall, where an F-1 score reaches its best at 1 and worst at 0.\n",
        "</p>\n",
        "<p align=\"justify\"> Below, we measure the performance of the model for logistic regression, using sklearn libraries.\n",
        "</p>"
      ],
      "metadata": {
        "id": "DuC72FZbr68F"
      }
    },
    {
      "cell_type": "code",
      "source": [
        "from sklearn.metrics import confusion_matrix\n",
        "from sklearn.metrics import accuracy_score\n",
        "from sklearn.metrics import classification_report\n",
        "\n",
        "Y_actual = dataset[:, 1]\n",
        "Y_predic = prediction\n",
        "results = confusion_matrix(Y_actual, Y_predic)\n",
        "print ('Confusion Matrix :\\n', results)\n",
        "print ('Accuracy :', accuracy_score(Y_actual, Y_predic))\n",
        "print ('Classification Report : \\n', classification_report(Y_actual, Y_predic))\n",
        "\n",
        "Y_predic = prediction_high\n",
        "results = confusion_matrix(Y_actual, Y_predic)\n",
        "print ('Confusion Matrix :\\n', results)\n",
        "print ('Accuracy :', accuracy_score(Y_actual, Y_predic))\n",
        "print ('Classification Report : \\n', classification_report(Y_actual, Y_predic))\n"
      ],
      "metadata": {
        "colab": {
          "base_uri": "https://localhost:8080/"
        },
        "id": "ccy85yyM_N1T",
        "outputId": "55205550-b6fd-4c9e-9133-30f87fcdf416"
      },
      "execution_count": null,
      "outputs": [
        {
          "output_type": "stream",
          "name": "stdout",
          "text": [
            "Confusion Matrix :\n",
            " [[3 0]\n",
            " [0 3]]\n",
            "Accuracy : 1.0\n",
            "Classification Report : \n",
            "               precision    recall  f1-score   support\n",
            "\n",
            "         0.0       1.00      1.00      1.00         3\n",
            "         1.0       1.00      1.00      1.00         3\n",
            "\n",
            "    accuracy                           1.00         6\n",
            "   macro avg       1.00      1.00      1.00         6\n",
            "weighted avg       1.00      1.00      1.00         6\n",
            "\n",
            "Confusion Matrix :\n",
            " [[3 0]\n",
            " [1 2]]\n",
            "Accuracy : 0.8333333333333334\n",
            "Classification Report : \n",
            "               precision    recall  f1-score   support\n",
            "\n",
            "         0.0       0.75      1.00      0.86         3\n",
            "         1.0       1.00      0.67      0.80         3\n",
            "\n",
            "    accuracy                           0.83         6\n",
            "   macro avg       0.88      0.83      0.83         6\n",
            "weighted avg       0.88      0.83      0.83         6\n",
            "\n"
          ]
        }
      ]
    },
    {
      "cell_type": "markdown",
      "source": [
        "<p align=\"justify\"> We have tested with two prediction: prediction with threshod with average score, and another with a little higher threshold added with 0.02. In the first case, it is shown that the accuracy is 100 %  because the predicted output is identical to acutal y values [0, 1, 0, 1, 1, 0] of the dataset. In the confusion matrix, all the non-diagonal elements are zero. In the second case with higher threshold, the predicited output is [0, 1, 0, 0, 1, 0] so that there is one erroneus classfication. This results in the accuracy of 83 %, i.e., 5/6, and affects other metrics such as F-1 score, precision and recall. AUC-ROC is not shown here for simplicity of explanation. </p>"
      ],
      "metadata": {
        "id": "vYA_QqMByHiv"
      }
    },
    {
      "cell_type": "markdown",
      "source": [
        "## Complete Code for Logistic Regression\n",
        "The complet code of logistic regression of the simple toy example is shown below."
      ],
      "metadata": {
        "id": "IG-CsHhTyF0P"
      }
    },
    {
      "cell_type": "code",
      "source": [
        "import numpy as np\n",
        "import matplotlib.pyplot as plt\n",
        "\n",
        "np.random.seed(45) # set the seed value\n",
        "\n",
        "def sigmoid(x):\n",
        "    \"\"\" Logistic function \"\"\"\n",
        "    return 1.0/(1+ np.exp(-x))\n",
        "\n",
        "def h(x, w):\n",
        "    \"\"\"Hypothesis function h(x) = sigmoid (x * w)\"\"\"\n",
        "    return sigmoid(x * w)\n",
        "\n",
        "def loss(o, y):\n",
        "    \"\"\"Cross-entropy error function\"\"\"\n",
        "    return -np.mean(y*np.log(o) + (1-y)*np.log(1-o)) # np.log is natural logarithm\n",
        "\n",
        "\n",
        "def gradient(x, w, y):\n",
        "    \"\"\"Gradient function\"\"\"\n",
        "    return x * (h(x, w) - y)\n",
        "\n",
        "def SGD(n_iter):\n",
        "    \"\"\" Mini-batch gradient descent optimization\"\"\"\n",
        "\n",
        "    # Initialize learning rate and weight \n",
        "    eta = 0.7 # learning rate\n",
        "    w = 0.05  # Initialize weight\n",
        "    data = dataset.copy() # get a copy of dataset for shuffling\n",
        "\n",
        "    # Perform mini-batch SGD optimization\n",
        "    for i in range(n_iter):\n",
        "\n",
        "        np.random.shuffle(data) # Randomize the dataset\n",
        "        x = data[:, 0] # Get input data\n",
        "        y = data[:, 1] # Get target data\n",
        "        loss_sum = 0  \n",
        "\n",
        "        for j in range(num_batch): # Iterate over mini-batches of dataset\n",
        "            x_batch = x[batch_size * j: batch_size * (j+1)]    # Get a mini-batch of input data x\n",
        "            y_batch = y[batch_size * j: batch_size * (j+1)]   # Get a mini-batch of target data y\n",
        "\n",
        "            dw = np.mean(gradient(x_batch, w, y_batch)) # Compute gradient estimates ∇L(w) \n",
        "            w = w - eta* dw  # Update parameters using the formula  w←w−η∇w\n",
        "            loss_sum += loss(h(x_batch, w), y_batch) # Sum up losses of mini-batches \n",
        "\n",
        "        if (i % 10) == 0:\n",
        "            loss_avg.append(loss_sum / num_batch) # Get average of mimi-batch loss\n",
        "\n",
        "    return w, loss_avg        \n",
        "\n",
        "if __name__ == \"__main__\":\n",
        "\n",
        "    # Dataset\n",
        "    dataset = np.array([[.30,  0],\n",
        "                        [.90,  1],\n",
        "                        [.50,  0],\n",
        "                        [.65,  1],\n",
        "                        [.70,  1],\n",
        "                        [.40,  0]])\n",
        "\n",
        "    batch_size = 6  # Size of mini-batch data\n",
        "    num_batch = int(dataset.shape[0]/batch_size)  # Number of mini-batches\n",
        "    loss_avg = [] # Loss average\n",
        "\n",
        "    w, loss_avg = SGD(500)\n",
        "    print(f'Value of weight parameter w:{w: .4f}')\n",
        "    print(f'Prediction output with the score 60:{h(0.9863, 0.60): .4f}')  \n",
        "    \n",
        "    # Show the average loss of mini-batch\n",
        "    plt.figure(figsize=(6, 4))\n",
        "    iter_count = range(1, len(loss_avg) + 1)\n",
        "    plt.plot(iter_count, loss_avg, 'b-')\n",
        "    plt.title('Loss vs iteration')\n",
        "    plt.legend(['Loss'])\n",
        "    plt.xlabel('Iteration x10')\n",
        "    plt.ylabel('Loss')\n",
        "    plt.show()\n",
        "\n",
        "    score = h(dataset[:, 0], w) # get predicted output values for input data \n",
        "    threshold = np.average(score) # get average of predicted output values\n",
        "\n",
        "    # Get prediction with threshold of average of output values. \n",
        "    prediction = [1 if (score[i] > threshold) else 0 for i in range(len(score))] \n",
        "    print('Prediction for the dataset with average threshold:', prediction)\n",
        "\n",
        "    # Get prediction for new score x\n",
        "    w, _ = SGD(500) \n",
        "    x = 0.60\n",
        "    new_score = h(w, x)\n",
        "    if new_score > threshold:\n",
        "        print(f'Score {x * 100: .1f} is predicted to pass the written test.')\n",
        "    else:\n",
        "        print(f'Score {x * 100: .1f} is predicted to fail the written test.')\n",
        "\n",
        "    # Get prediction with higher threshold  \n",
        "    prediction_high = [1 if (score[i] > threshold+0.02) else 0 for i in range(len(score))] \n",
        "    print(f'Prediction with higher treshold value: {prediction_high}')\n",
        "\n",
        "    from sklearn.metrics import confusion_matrix\n",
        "    from sklearn.metrics import accuracy_score\n",
        "    from sklearn.metrics import classification_report\n",
        "\n",
        "    Y_actual = dataset[:, 1]\n",
        "    Y_predic = prediction\n",
        "    results = confusion_matrix(Y_actual, Y_predic)\n",
        "    print ('Confusion Matrix :\\n', results)\n",
        "    print ('Accuracy :', accuracy_score(Y_actual, Y_predic))\n",
        "    print ('Classification Report : \\n', classification_report(Y_actual, Y_predic))\n",
        "\n",
        "    Y_predic = prediction_high\n",
        "    results = confusion_matrix(Y_actual, Y_predic)\n",
        "    print ('Confusion Matrix :\\n', results)\n",
        "    print ('Accuracy :', accuracy_score(Y_actual, Y_predic))\n",
        "    print ('Classification Report : \\n', classification_report(Y_actual, Y_predic))"
      ],
      "metadata": {
        "colab": {
          "base_uri": "https://localhost:8080/",
          "height": 885
        },
        "id": "VihLewy_NpfG",
        "outputId": "6280b7f5-d363-460e-a802-8c568e1c3074"
      },
      "execution_count": null,
      "outputs": [
        {
          "output_type": "stream",
          "name": "stdout",
          "text": [
            "Value of weight parameter w: 0.9843\n",
            "Prediction output with the score 60: 0.6438\n"
          ]
        },
        {
          "output_type": "display_data",
          "data": {
            "image/png": "[encoded data removed]",
            "text/plain": [
              "<Figure size 432x288 with 1 Axes>"
            ]
          },
          "metadata": {
            "needs_background": "light"
          }
        },
        {
          "output_type": "stream",
          "name": "stdout",
          "text": [
            "Prediction for the dataset with average threshold: [0, 1, 0, 1, 1, 0]\n",
            "Score  60.0 is predicted to pass the written test.\n",
            "Prediction with higher treshold value: [0, 1, 0, 0, 1, 0]\n",
            "Confusion Matrix :\n",
            " [[3 0]\n",
            " [0 3]]\n",
            "Accuracy : 1.0\n",
            "Classification Report : \n",
            "               precision    recall  f1-score   support\n",
            "\n",
            "         0.0       1.00      1.00      1.00         3\n",
            "         1.0       1.00      1.00      1.00         3\n",
            "\n",
            "    accuracy                           1.00         6\n",
            "   macro avg       1.00      1.00      1.00         6\n",
            "weighted avg       1.00      1.00      1.00         6\n",
            "\n",
            "Confusion Matrix :\n",
            " [[3 0]\n",
            " [1 2]]\n",
            "Accuracy : 0.8333333333333334\n",
            "Classification Report : \n",
            "               precision    recall  f1-score   support\n",
            "\n",
            "         0.0       0.75      1.00      0.86         3\n",
            "         1.0       1.00      0.67      0.80         3\n",
            "\n",
            "    accuracy                           0.83         6\n",
            "   macro avg       0.88      0.83      0.83         6\n",
            "weighted avg       0.88      0.83      0.83         6\n",
            "\n"
          ]
        }
      ]
    },
    {
      "cell_type": "markdown",
      "source": [
        "##Exercise: Implement logistic regression with Python and Keras/Tensorflow."
      ],
      "metadata": {
        "id": "mbC-uQ9GvVsY"
      }
    }
  ],
  "metadata": {
    "kernelspec": {
      "display_name": "Python 3",
      "language": "python",
      "name": "python3"
    },
    "language_info": {
      "codemirror_mode": {
        "name": "ipython",
        "version": 3
      },
      "file_extension": ".py",
      "mimetype": "text/x-python",
      "name": "python",
      "nbconvert_exporter": "python",
      "pygments_lexer": "ipython3",
      "version": "3.9.4"
    },
    "colab": {
      "name": "LogisticRegression_Practice.ipynb",
      "provenance": [],
      "collapsed_sections": [],
      "include_colab_link": true
    }
  },
  "nbformat": 4,
  "nbformat_minor": 0
}