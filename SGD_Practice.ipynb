{
  "cells": [
    {
      "cell_type": "markdown",
      "metadata": {
        "id": "view-in-github",
        "colab_type": "text"
      },
      "source": [
        "<a href=\"https://colab.research.google.com/github/jongpark2019/kbtu/blob/main/SGD_Practice.ipynb\" target=\"_parent\"><img src=\"https://colab.research.google.com/assets/colab-badge.svg\" alt=\"Open In Colab\"/></a>"
      ]
    },
    {
      "cell_type": "markdown",
      "metadata": {
        "id": "sEmOZPUVX_h1"
      },
      "source": [
        "# SGD (Stocastic Gradient Descent) for Linear Regression\n",
        "<p align=\"justify\">In this practice, we introduce how to implement SGD (Stochastic Gradient Descent) algorithm with Python. The concept of gradient descent is illustrated on a very simple linear regression model. The linear regression model will be optimized using SGD algorithm in which the derivations of the gradients are provided.</p>"
      ]
    },
    {
      "cell_type": "markdown",
      "metadata": {
        "id": "XJECZpjNX_h2"
      },
      "source": [
        "This is the part of the practice series on how to implement neural networks from scratch in Python:\n",
        "- Stochastic gradient descent \n",
        "- Linear regression\n",
        "- Logistic regression\n",
        "- Neural Net and Backpropagation\n",
        "- Vectorization \n",
        "- MLP (Multi-layer Perceptron)"
      ]
    },
    {
      "cell_type": "markdown",
      "source": [
        "## Theory of SGD\n",
        "\n",
        "<p align=\"justify\">Stochastic gradient descent (SGD) is an optimization algorithm for finding a minimum of a cost function by iteratively updating parameters of the cost function by a small amount calculated from the negative gradient of a given data set. The gradient is a derivative that shows the slope of a cost function. SGD is the most used optimization algorithms for many machine learning, and particularly deep learning models.\n",
        "Let the cost function be $L(w)$ where w is the parameters of the cost function. $\\frac{\\partial L(w)}{\\partial w}$ is the gradient of the cost function $L(w)$ with respect to the parameter $w$. SGD is expressed as the following formula: $w ← w - η∇L(w)$ where $∇L(w)= \\frac{\\partial L(w)}{\\partial w}$ and $η$ is a learning rate. Note that $L(w)$, i.e, $\\frac{\\partial L(w)}{\\partial w}$ is often denotated as $\\Delta w$.\n",
        "The algorithm for performing SGD is described below. <p>\n",
        "\n",
        "**Algorithm** Stochastic gradient descent (SGD):\n",
        "<ol type=\"1\">\n",
        " <li> Initialize a learning rate η and parameter values </li> \n",
        " <li> Get a set of mini-batches from the dataset, randomly </li>\n",
        " <li> Iterate over mini-batches of dataset </li>\n",
        "      <ul type=\"disc\">\n",
        "        <li>Compute gradient estimates $∇L(w)$ </li>\n",
        "        <li>Update all parameters using the formula $w ← w - η∇L(w)$ </li>\n",
        "      </ul>\n",
        " <li> Go to Step 2 if a stopping criterion is not met </li>\n",
        "</ol>\n",
        "\n",
        "<p align=\"justify\">A stopping criterion is to find a local or global minimum solution. It can be other constraint such as early stopping to avoid the overfitting, which will be explained subsequently. Note that in the literature [ ], the above SGD algorithm is defined as Mini-batch SGD. When the size of mini-batch in the above SGD algorithm is equal to one, it is defined as SGD. When the size of mini-batch is equal to the whole dataset, it is defined as batch gradient descent (BGD). However, the SGD optimization algorithm in the commercial deep learning platforms such as Keras, Pytorch, etc, actually means the Mini-batch SGD. <p>"
      ],
      "metadata": {
        "id": "-rrYYtQ2kx21"
      }
    },
    {
      "cell_type": "markdown",
      "source": [
        "## Example\n",
        "<p align=\"justify\">For the example of SGD, let’s try to predict the salary of employees based on the years of experience at a company. Table below shows the salaries of employees where x and y are years of working experience and salary, respectively. It is the dataset for the toy example. What would be the salary of employee with 5 years of experience ? This problem is known as regression. Note that regression is a statistical process for estimating the relationships among dependent and independent variables, and linear regression is a linear approach to modelling the relationship between variables. In this example, x is independant variable and y is dependant variable. \n",
        "\n",
        "| x (years)| y (salary, $1,000) | \n",
        "|:----------:|:-------------:|\n",
        "| 2 |  20 | \n",
        "| 4 |  35 |  \n",
        "| 6 |  50 |\n",
        "| 8 |  85 |\n",
        "| 10 |  100 |\n",
        "| 12 |  110 |\n",
        "\n",
        "</p>\n",
        "<p align=\"justify\">In order to demonstrate the SGD process, we employ the linear regression model: given N samples in a dataset $\\{(x_i,y_i ):i=1,2,..,n\\}$, find a function $h_w (x)$ that minimizes the cost (or loss) function $L(w)$, mean squared error (MSE), with $L(w)=  \\frac{1}{2n} \\sum_{i=1}^{n}(h_w (x_i )- y_i )^2 $. Here, the function $h_w (x)$ is called a hypothesis, and for the example, we define a simple linear function $h_w (x )= wx$, where  $w$ is a weight. We would like to find the value of $w$ which minimizes the cost function $L(w)$, based on the given dataset.</p>\n",
        "\n",
        "<p align=\"justify\">Below, we illustrate the SGD process, step by step. Let’s start by initializing the weight w = 0.001. and assign 0.1 to the learning rate $\\eta$. The dataset is plotted at the figure below where x and y are years of experience and salaries of the employees, respectively. Note that for the computational efficiencly, the values of salaries and years are divided by 10 and 100, respectively.\n",
        "</p>"
      ],
      "metadata": {
        "id": "b82GyjLwtK3X"
      }
    },
    {
      "cell_type": "code",
      "source": [
        "import numpy as np\n",
        "import matplotlib.pyplot as plt\n",
        "\n",
        "# Dataset\n",
        "dataset = np.array([[.2,  0.2],\n",
        "                    [.4,  0.35],\n",
        "                    [.6,  0.50],\n",
        "                    [.8,  0.85],\n",
        "                    [1.0, 1.00],\n",
        "                    [1.2, 1.10]])\n",
        "x = dataset[:, 0]\n",
        "y = dataset[:, 1]\n",
        " \n",
        "# Show the dataset\n",
        "plt.figure(figsize=(5, 3))\n",
        "plt.title('year(x) vs salary(y)')\n",
        "plt.scatter(x, y, color = \"m\", marker = \"o\", s = 30)\n",
        "plt.xlabel('x')\n",
        "plt.ylabel('y')\n",
        "plt.show()\n"
      ],
      "metadata": {
        "colab": {
          "base_uri": "https://localhost:8080/",
          "height": 241
        },
        "id": "WCu_LMT5FP5T",
        "outputId": "e70098c4-baba-4bc5-b257-1c555df2cb31"
      },
      "execution_count": null,
      "outputs": [
        {
          "output_type": "display_data",
          "data": {
            "image/png": "[encoded data removed]",
            "text/plain": [
              "<Figure size 360x216 with 1 Axes>"
            ]
          },
          "metadata": {
            "needs_background": "light"
          }
        }
      ]
    },
    {
      "cell_type": "markdown",
      "metadata": {
        "id": "xUpkPOn_X_iD"
      },
      "source": [
        "## Minimizing the MSE loss function\n",
        "<p align=\"justify\"> Now, we want to optimize the model $h_w (x )= wx$ of the aforementioned example by adjusting the parameter $w$ so that the mean squared error (MSE) along all samples in the dataset is minimized. We apply the SGD (stochastic gradient descent) algorithm to obtain the optimal solution. The SGD works by taking the gradient of the loss function $L(w)$ with respect to the parameter $w$ at a specific position on the loss function, and updates the parameters in the direction of the negative gradient. The parameter $w$ is iteratively updated by taking steps proportional to the negative of the gradient:\n",
        "$w ← w - η∇L(w)$. Here, $\\nabla L(w)$ is defined as:\n",
        "$$\n",
        "\\nabla L(w) = \\frac{\\partial L(w)}{\\partial w}\n",
        "$$\n",
        "For notational simplification, let $o_i = h_w (x_i )$. In other words, $o_i$ is the predicted output for the sample input $x_i$. Then, \n",
        "$$\n",
        "L(w)=  \\frac{1}{2n} \\sum_{i=1}^{n}(h_w (x_i )- y_i )^2 = \\frac{1}{2n} \\sum_{i=1}^{n}(o_i - y_i )^2 \n",
        "$$\n",
        "Using the chain rule of differential equation, $[g(h(x))]^{'}$ = $g^{'}(h(x))h^{'}(x)$,\n",
        "$$\n",
        "\\frac{\\partial L(w)}{\\partial w} = \\frac{1}{2n} \\sum_{i=1}^{n}\\frac{\\partial (o_i - y_i )^2 }{\\partial o_i}\\frac{\\partial o_i}{w}\n",
        "$$\n",
        "Here,\n",
        "$$\n",
        "\\frac{\\partial (o_i - y_i )^2 }{\\partial o_i} = 2(o_i - y_i )\n",
        "$$\n",
        "And since $o_i = x_i w$, we can write ${\\partial o_i}/{\\partial w}$ as:\n",
        "$$\n",
        "\\frac{\\partial o_i}{\\partial w} = \\frac{\\partial (x_i w)}{\\partial w} = x_i\n",
        "$$\n",
        "Thus, the full update function $\\frac{\\partial L(w)}{\\partial w}$ for the entire dataset becomes:\n",
        "$$\n",
        "\\frac{\\partial L(w)}{\\partial w} = \\frac{1}{2n} \\sum_{i=1}^{n}2(o_i - y_i )x_i = \\frac{1}{n} \\sum_{i=1}^{n}(o_i - y_i )x_i\n",
        "$$\n",
        "Finally, we get: \n",
        "$$\n",
        "\\nabla L(w) =  \\frac{1}{n} \\sum_{i=1}^{n}(o_i - y_i ) x_i\n",
        "$$\n",
        "Note that $(o_i - y_i ) x_i$ is the gradient for the sample $i$. This formula is actually for the batch gradient descent where all the gradients are caculated and summed up before updating the parameter $w$. In other words, the entire elemets of the dataset needs to be cycled for a single parameter update. In contrast to is batch gradient descent (BGD), the SGD takes a single data sample and perform thea parameter update at each iteration, as descried before.\n",
        "\n",
        "Below, we have implemented the gradient descent agorithm with Python. </p>\n"
      ]
    },
    {
      "cell_type": "code",
      "source": [
        "import numpy as np\n",
        "import matplotlib.pyplot as plt\n",
        "\n",
        "np.random.seed(45) # set the seed value\n",
        "\n",
        "def h(x, w):\n",
        "    \"\"\"Hypothesis function h(x) = x * w\"\"\"\n",
        "    return x * w\n",
        "\n",
        "def loss(o, y):\n",
        "    \"\"\"MSE loss function\"\"\"\n",
        "    return np.mean((o - y)**2) / 2.0\n",
        "\n",
        "def gradient(x, w, y):\n",
        "    \"\"\"Gradient function\"\"\"\n",
        "    return x * (h(x, w) - y)\n",
        "\n",
        " \n",
        "def gradient_descent(k, lr=0.7):\n",
        "    \"\"\" Gradient descent optimization\n",
        "        where batch size is equal to input data.\n",
        "    \"\"\"\n",
        "\n",
        "    # Initialize weight and learning rate\n",
        "    w = 0.05  # Initialize weight\n",
        "    eta = lr # learning rate\n",
        "\n",
        "    # Perform the gradient descent optimization\n",
        "    n_iter = k  # Set the number of iterations for gradient descent updates\n",
        "    w_loss = [(w, loss(h(x, w), y))] # Keep track of weight and loss values\n",
        "\n",
        "    for i in range(n_iter):\n",
        "        dw = np.mean(gradient(x, w, y)) # Calcuate gradient of loss at w, i.e., dw = Δw, i.e., ∇L(w) \n",
        "        w = w - eta* dw  # Update the weight parameter\n",
        "        w_loss.append((w, loss(h(x, w), y)))  # Store the weight and loss\n",
        "\n",
        "    return w, w_loss\n",
        "\n",
        "if __name__ == \"__main__\":\n",
        "  \n",
        "    # Dataset\n",
        "    dataset = np.array([[.2,  0.2],\n",
        "                        [.4,  0.35],\n",
        "                        [.6,  0.50],\n",
        "                        [.8,  0.85],\n",
        "                        [1.0, 1.00],\n",
        "                        [1.2, 1.10]])\n",
        "    x = dataset[:, 0]\n",
        "    y = dataset[:, 1]\n",
        "\n",
        "    w, w_loss = gradient_descent(5)\n",
        "    print(f'The value of parameter w:{w: .4f}')"
      ],
      "metadata": {
        "colab": {
          "base_uri": "https://localhost:8080/"
        },
        "id": "nOiqEECxpZmb",
        "outputId": "52d1b96d-144a-4443-f53a-6790000fdb81"
      },
      "execution_count": null,
      "outputs": [
        {
          "output_type": "stream",
          "name": "stdout",
          "text": [
            "The value of parameter w: 0.8989\n"
          ]
        }
      ]
    },
    {
      "cell_type": "markdown",
      "source": [
        "<p align=\"justify\">First, the learning rate $η$ and weight $w$  are initialized with 0.7 and 0.05, respectively. These values can be changed so that the paramter $w$ can be inilialized with random values. Typically, the value of learning rate should be between 0 and 1. The function gradient_descent() performs the batch gradient descent algorithm. The number of iteration is set to 5. For each iteration, the gradients over the entire dataset (here only 6 samples) are calculated and summed up. Then, the parameter  $w$  is updated. The function h(w,x) implements the hypothes function $h_w(x)$ and the function loss implements the loss function $L(w)$. The function gradient() calculates the gradient of the loss at  $w$  for each sample. After 4 iterations we obtained the value of the parameter $w$  with 0.8989. Note that in calculating the function h(w,x), x is a vecor and w has a scalar value, so that wx is calculated by multiplying vector x and scalar w.</p>"
      ],
      "metadata": {
        "id": "x_qbcsc_w4Ko"
      }
    },
    {
      "cell_type": "markdown",
      "source": [
        "## Visualizing the gradient descent optimization \n",
        "<p align=\"justify\">We want to show how the optimal value of the paramter $w$ is obtained, if it exists. In order to do that, the value of loss function $L(w)$ with respect to $w$ are kept track of and and stored in w_loss at gradient_descent function in the above program. The function display_weight_loss plots the loss for the given weight. Note that w_loss is obtained in gradient_descent function described above.\n",
        "The IPython notebook file at <a rel=\"canonical\" href=\"https://peterroelants.github.io/posts/neural-network-implementation-part01/\">peterroelants.github.io</a> is referred for the code.</p>"
      ],
      "metadata": {
        "id": "yJ9Hkvw10AsW"
      }
    },
    {
      "cell_type": "code",
      "source": [
        "def display_weight_loss(w_loss):\n",
        "    \"\"\" Plot the loss for the given weight\"\"\"\n",
        "    \n",
        "    # Define weight values for plotting the loss\n",
        "    weights = np.linspace(0, 2, num=100)  \n",
        "\n",
        "    # Calculate the loss for each weight in weights \n",
        "    loss_ws = np.vectorize(lambda w: loss(h(x, w) , y))(weights)\n",
        "\n",
        "    # Visualise the gradient descent optimization by plotting loss vs weight\n",
        "    plt.figure(figsize=(6, 4))\n",
        "    plt.plot(weights, loss_ws, 'r--', label='loss') \n",
        "    # Plot the gradient updates\n",
        "    for i in range(0, len(w_loss)-1):\n",
        "        x1, y1 = w_loss[i]\n",
        "        x2, y2 = w_loss[i+1]\n",
        "        plt.plot(x1, y1, 'bo')\n",
        "        plt.plot([x1, x2],[y1, y2], 'b-')\n",
        "        plt.text(x1, y1+0.015, f'${i}$')\n",
        "    plt.plot(x2, y2, 'bo', label='iteration')\n",
        "    plt.text(x2, y2+0.015, f'${i+1}$')\n",
        "    # Show figure\n",
        "    plt.xlabel('$w$', fontsize=12)\n",
        "    plt.ylabel('$L(w)$', fontsize=12)\n",
        "    plt.title('Loss vs weight')\n",
        "    plt.xlim(0, 2)\n",
        "    plt.legend(loc=0)\n",
        "    plt.show()\n",
        "\n",
        "display_weight_loss(w_loss)\n",
        "# Print the final values of weight and loss\n",
        "for i in range(0, len(w_loss)):\n",
        "    print('Iteration({}): weight:{:.4f} \\t loss: {:.4f}'.format(i, w_loss[i][0], w_loss[i][1]))\n"
      ],
      "metadata": {
        "colab": {
          "base_uri": "https://localhost:8080/",
          "height": 405
        },
        "id": "qgjMPy5MgDHM",
        "outputId": "7ebdf21b-ce86-47de-fd4d-2a519b4dbfd8"
      },
      "execution_count": null,
      "outputs": [
        {
          "output_type": "display_data",
          "data": {
            "image/png": "[encoded data removed]",
            "text/plain": [
              "<Figure size 432x288 with 1 Axes>"
            ]
          },
          "metadata": {
            "needs_background": "light"
          }
        },
        {
          "output_type": "stream",
          "name": "stdout",
          "text": [
            "Iteration(0): weight:0.0500 \t loss: 0.2505\n",
            "Iteration(1): weight:0.4348 \t loss: 0.0839\n",
            "Iteration(2): weight:0.6561 \t loss: 0.0288\n",
            "Iteration(3): weight:0.7835 \t loss: 0.0105\n",
            "Iteration(4): weight:0.8568 \t loss: 0.0045\n",
            "Iteration(5): weight:0.8989 \t loss: 0.0025\n"
          ]
        }
      ]
    },
    {
      "cell_type": "markdown",
      "source": [
        "<p align=\"justify\">By increasing the number of iterations, we can get the optimal value of weight while minimizing the loss. At 20 iterations, the optimal weight is 0.9560. Applying this weight value to the linear regression model $h_w (x )= wx$, we can precict that the salary of employee with 5 years of experience is 47,800 dollars.</p>  "
      ],
      "metadata": {
        "id": "Hp3lgAvXo63l"
      }
    },
    {
      "cell_type": "code",
      "source": [
        "n_iter = 20 # number of iterations\n",
        "w, _ = gradient_descent(n_iter)\n",
        "print(f'Weight value at iternation {n_iter}: {w: .4f}')"
      ],
      "metadata": {
        "colab": {
          "base_uri": "https://localhost:8080/"
        },
        "id": "w4UBa8uBoJa_",
        "outputId": "40289d70-650f-42ab-d3f3-ddbab1dafd2d"
      },
      "execution_count": null,
      "outputs": [
        {
          "output_type": "stream",
          "name": "stdout",
          "text": [
            "Weight value at iternation 20:  0.9560\n"
          ]
        }
      ]
    },
    {
      "cell_type": "markdown",
      "metadata": {
        "id": "Dp9zmOl3X_iF"
      },
      "source": [
        "<p align=\"justify\"> The above figure shows the gradient descent updates where the line with blue dots shows the trajectory of changing loss values at iterations from 0 to 5. As the numuber of iternations increases, which is indicated by the integer above the blue dot, the value of loss function decreases. In the graph, the first update is larger than the second update because the gradient (and slope) is higher. As you approach the minimum, they become lower, so that it is called gradient descent. The dotted red curve indicates the trajectory of the loss function $L(w)$. We know that there exists an optimal value, and it is around $w$ value of 1.0. So, the $w$ value of 0.8989 achieved with 5 iterations is very close to the optimal value. By increasing the number of iterations, we can get the parameter value $w$ which is closer to the optimum. For example, with 20 iterations, the weight value is 0.9560. You can find that it is actually an optimal value of the parameter $w$, because the loss reduces no more as the number of iterations increases beyond 20. It shows that the gradient descent algorithm quickly converges to the optimal value around 1.0. \n",
        "\n",
        "For a simple loss function like in this example, we can easily find what the optimal value of the weight parameter should be. However, in most other cases with high dimentional parameters, it is usually very difficult to find the optimal value. </p>"
      ]
    },
    {
      "cell_type": "markdown",
      "source": [
        "### Exercise: Implement a online gradient descent algorithm where the weight is updated for each new sample. Display the w_loss for 5 iterations. Note that for each iteration, new data simple is trained. "
      ],
      "metadata": {
        "id": "Vvu4uLQHeDLa"
      }
    },
    {
      "cell_type": "code",
      "source": [
        "# Solution\n",
        "import numpy as np\n",
        "import matplotlib.pyplot as plt\n",
        "\n",
        "np.random.seed(45) # set the seed value\n",
        "\n",
        "def h(x, w):\n",
        "    \"\"\"Hypothesis function h(x) = x * w\"\"\"\n",
        "    return x * w\n",
        "\n",
        "def loss(o, y):\n",
        "    \"\"\"MSE loss function\"\"\"\n",
        "    return np.mean((o - y)**2) / 2.0\n",
        "\n",
        "def gradient(x, w, y):\n",
        "    \"\"\"Gradient function\"\"\"\n",
        "    return x * (h(x, w) - y)\n",
        "\n",
        " \n",
        "def online_gradient_descent(k, lr=0.7):\n",
        "    \"\"\" Online gradient descent update algorithm\n",
        "        where each new data sample is trained.\n",
        "    \"\"\"\n",
        "\n",
        "    # Initialize weight and learning rate\n",
        "    w = 0.05  # Initialize weight\n",
        "    eta = lr # learning rate\n",
        "\n",
        "    # Perform the gradient descent optimization.\n",
        "    n_iter = k  # Set the number of iterations for gradient descent updates\n",
        "    w_loss = [(w, loss(h(x, w), y))] # Keep track of weight and loss values\n",
        "\n",
        "    # This part implements the online gradient descent optimization.\n",
        "    for i in range(n_iter):\n",
        "        dw = np.mean(gradient(x[i: (i+1)], w, y[i: (i+1)])) # Calcuate gradient of loss at w for each new data sample\n",
        "        w = w - eta* dw  # Update the weight parameter\n",
        "        w_loss.append((w, loss(h(x[i: (i+1)], w), y[i: (i+1)])))  # Store the weight and loss for each new data sample\n",
        "\n",
        "    return w, w_loss\n",
        "\n",
        "if __name__ == \"__main__\":\n",
        "  \n",
        "    # Dataset\n",
        "    dataset = np.array([[.2,  0.2],\n",
        "                        [.4,  0.35],\n",
        "                        [.6,  0.50],\n",
        "                        [.8,  0.85],\n",
        "                        [1.0, 1.00],\n",
        "                        [1.2, 1.10]])\n",
        "    x = dataset[:, 0]\n",
        "    y = dataset[:, 1]\n",
        "\n",
        "    w, w_loss = online_gradient_descent(5)\n",
        "    print(f'The value of parameter w:{w: .4f}')\n",
        "\n",
        "    display_weight_loss(w_loss)"
      ],
      "metadata": {
        "colab": {
          "base_uri": "https://localhost:8080/",
          "height": 316
        },
        "id": "4RHX1FTSaLht",
        "outputId": "9cbf75dd-1957-489f-9c79-c05a37884b0b"
      },
      "execution_count": null,
      "outputs": [
        {
          "output_type": "stream",
          "name": "stdout",
          "text": [
            "The value of parameter w: 0.8981\n"
          ]
        },
        {
          "output_type": "display_data",
          "data": {
            "image/png": "[encoded data removed]",
            "text/plain": [
              "<Figure size 432x288 with 1 Axes>"
            ]
          },
          "metadata": {
            "needs_background": "light"
          }
        }
      ]
    },
    {
      "cell_type": "markdown",
      "source": [
        "## Impact of learning rate in Stochastic Gradient Descent\n",
        "<p align=\"justify\"> In stochastic gradient descent, choosing a proper value of the learning rate is challenging task because different learning rate values can significantly affect the behavior of gradient descent. If the learning rate is set too low, training will progress very slowly as it makes very tiny updates to the weights. However, if the learning rate is set too high, it may cause unacceptable divergent behavior in the loss function. Below, we illustrate three cases of learning rate: low, high, and too high. There are many ways to set a proper value of the learning rate. Typically, you may try a few different values and see which one gives you the best loss without sacrificing speed of training. </p>\n",
        "\n",
        "\n",
        "\n",
        "\n",
        "\n",
        "\n",
        "\n"
      ],
      "metadata": {
        "id": "YZks9GXKq1xa"
      }
    },
    {
      "cell_type": "code",
      "source": [
        "n_iter = 5 # number of iterations\n",
        "w, w_loss = gradient_descent(n_iter, 0.1)\n",
        "display_weight_loss(w_loss)\n",
        "\n",
        "# Print the final values of weight and loss\n",
        "for i in range(0, len(w_loss)):\n",
        "    print('Iteration({}): weight:{:.4f} \\t loss: {:.4f}'.format(i, w_loss[i][0], w_loss[i][1]))"
      ],
      "metadata": {
        "colab": {
          "base_uri": "https://localhost:8080/",
          "height": 405
        },
        "id": "-fPG3FmxpUCK",
        "outputId": "938ddd61-5a88-40f9-a86e-4092a8e69ee0"
      },
      "execution_count": null,
      "outputs": [
        {
          "output_type": "display_data",
          "data": {
            "image/png": "[encoded data removed]",
            "text/plain": [
              "<Figure size 432x288 with 1 Axes>"
            ]
          },
          "metadata": {
            "needs_background": "light"
          }
        },
        {
          "output_type": "stream",
          "name": "stdout",
          "text": [
            "Iteration(0): weight:0.0500 \t loss: 0.2505\n",
            "Iteration(1): weight:0.1050 \t loss: 0.2212\n",
            "Iteration(2): weight:0.1566 \t loss: 0.1954\n",
            "Iteration(3): weight:0.2051 \t loss: 0.1726\n",
            "Iteration(4): weight:0.2507 \t loss: 0.1524\n",
            "Iteration(5): weight:0.2934 \t loss: 0.1347\n"
          ]
        }
      ]
    },
    {
      "cell_type": "markdown",
      "source": [
        "<p align=\"justify\">In the first case with low learning rate, the learning rate is set to 0.1 for the simple linear regression example which is described previously. The number of iterations is set 5, the same as before. The figure shows that the changes in the weight $w$  are very small due to the small learning rate. A small learning rate requires many updates before reaching to the mimimum, resulting in very slow convergence. If the number of iterations is limited, the SGD algorithm may return before the minimum is found.</p>"
      ],
      "metadata": {
        "id": "KlFh-vvckBp-"
      }
    },
    {
      "cell_type": "code",
      "source": [
        "n_iter = 5 # number of iterations\n",
        "w, w_loss = gradient_descent(n_iter, 3)\n",
        "display_weight_loss(w_loss)\n",
        "\n",
        "# Print the final values of weight and loss\n",
        "for i in range(0, len(w_loss)):\n",
        "    print('Iteration({}): weight:{:.4f} \\t loss: {:.4f}'.format(i, w_loss[i][0], w_loss[i][1]))"
      ],
      "metadata": {
        "colab": {
          "base_uri": "https://localhost:8080/",
          "height": 405
        },
        "id": "xYAE2Gdmo7lA",
        "outputId": "bcb3132e-bb0a-4059-a0d9-a5cb4d3768d0"
      },
      "execution_count": null,
      "outputs": [
        {
          "output_type": "display_data",
          "data": {
            "image/png": "[encoded data removed]",
            "text/plain": [
              "<Figure size 432x288 with 1 Axes>"
            ]
          },
          "metadata": {
            "needs_background": "light"
          }
        },
        {
          "output_type": "stream",
          "name": "stdout",
          "text": [
            "Iteration(0): weight:0.0500 \t loss: 0.2505\n",
            "Iteration(1): weight:1.6990 \t loss: 0.1689\n",
            "Iteration(2): weight:0.3468 \t loss: 0.1141\n",
            "Iteration(3): weight:1.4556 \t loss: 0.0772\n",
            "Iteration(4): weight:0.5464 \t loss: 0.0524\n",
            "Iteration(5): weight:1.2920 \t loss: 0.0357\n"
          ]
        }
      ]
    },
    {
      "cell_type": "markdown",
      "source": [
        "<p align=\"justify\">In the second case with high learning rate, the learning rate is set to 3.0 for the same example of the first case. The figure shows that the changes in the weight $w$  are larege due to the large learning rate. The value of the weight $w$ approaches in a zigzag way to the optimal value of w. This zigzag movement also requires many updates to get to the mimimum. Notice that the weight values moves in the zigzag around the optimal value of $w$. </p>"
      ],
      "metadata": {
        "id": "Cbl_DPKMkH30"
      }
    },
    {
      "cell_type": "code",
      "source": [
        "n_iter = 5 # number of iterations\n",
        "w, w_loss = gradient_descent(n_iter, 3.33)\n",
        "display_weight_loss(w_loss)\n",
        "\n",
        "# Print the final values of weight and loss\n",
        "for i in range(0, len(w_loss)):\n",
        "    print('Iteration({}): weight:{:.4f} \\t loss: {:.4f}'.format(i, w_loss[i][0], w_loss[i][1]))"
      ],
      "metadata": {
        "colab": {
          "base_uri": "https://localhost:8080/",
          "height": 405
        },
        "id": "g-BT3Uprkcnx",
        "outputId": "7e6be1bc-8ab6-4ede-ae53-105142b4b35b"
      },
      "execution_count": null,
      "outputs": [
        {
          "output_type": "display_data",
          "data": {
            "image/png": "[encoded data removed]",
            "text/plain": [
              "<Figure size 432x288 with 1 Axes>"
            ]
          },
          "metadata": {
            "needs_background": "light"
          }
        },
        {
          "output_type": "stream",
          "name": "stdout",
          "text": [
            "Iteration(0): weight:0.0500 \t loss: 0.2505\n",
            "Iteration(1): weight:1.8804 \t loss: 0.2607\n",
            "Iteration(2): weight:0.0130 \t loss: 0.2712\n",
            "Iteration(3): weight:1.9181 \t loss: 0.2823\n",
            "Iteration(4): weight:-0.0255 \t loss: 0.2937\n",
            "Iteration(5): weight:1.9574 \t loss: 0.3056\n"
          ]
        }
      ]
    },
    {
      "cell_type": "markdown",
      "source": [
        "<p align=\"justify\">In the third case with too high learning rate, the learning rate is set to 3.33 for the same example of the first case. The figure shows that too high value of a learning rate causes drastic weight updates which lead to divergent behaviors. Values of both loss and weight diverge and you can see their diverging values as the number of interations increases. This is an unacceptable behavior that shoud be avoided. Usually, if the learning rate is larger than 1, more weight is given to the gradient of the loss function than to the current value of the weight parameters, so that the loss function tends to diverge. </p>"
      ],
      "metadata": {
        "id": "DmW5rYzfkM0_"
      }
    },
    {
      "cell_type": "markdown",
      "source": [
        "## Mini-batch in Stochastic Gradient Descent\n",
        "<p align=\"justify\">Stochastic gradient descent randomly divides the datset into mini-batches. For each minibatch, the gradient is computed and all parameters are updated. Once all mini-batches are used, the iteration or epoch is finished and start the next iteration until the stopping criteria are met. The stopping criteria usually checks for the convergence. At each iteration, the learning rate can also be adjusted.\n",
        "Below, we have implemented the SGD algorithm which is descibed above. A new function called SGD() is built, that is very similar to the function gradient_descent() but uses randomly selected mini-batches for weight updates.\n",
        "We have a new hyperparameter batch_size which defines the number of samples for each mini-bactch. The size of mini-batch is an important hyperparameter for stochastic gradient descent that can affect the performance such as the convergene time. For this simple example, batch_size can be 1, 2, 3, and 6. In order to select mini-batches randomly, The function np.ramdom.shuffle() is used to shuffle the samples in the dataset. This is one of the ways to select mini-batches randomly.\n",
        "\n",
        "</p>"
      ],
      "metadata": {
        "id": "O6YZZBXF3hd1"
      }
    },
    {
      "cell_type": "code",
      "source": [
        "import numpy as np\n",
        "import matplotlib.pyplot as plt\n",
        "\n",
        "np.random.seed(45) # set the seed value\n",
        "\n",
        "def h(x, w):\n",
        "    \"\"\"Hypothesis function h(x) = x * w\"\"\"\n",
        "    return x * w\n",
        "\n",
        "def loss(o, y):\n",
        "    \"\"\"MSE loss function\"\"\"\n",
        "    return np.mean((o - y)**2) / 2.0\n",
        "\n",
        "def gradient(x, w, y):\n",
        "    \"\"\"Gradient function\"\"\"\n",
        "    return x * (h(x, w) - y)\n",
        "\n",
        "def SGD(dataset, n_iter):\n",
        "    \"\"\" Mini-batch gradient descent optimization\n",
        "    \"\"\"\n",
        "\n",
        "    # Initialize learning rate and weight \n",
        "    eta = 0.5 # learning rate\n",
        "    w = 0.05  # Initialize weight\n",
        "\n",
        "    # SGD Optimization: perform the mini-batch stochastic gradient descent optimization\n",
        "    for i in range(n_iter):\n",
        "\n",
        "        np.random.shuffle(dataset) # Randomize the dataset\n",
        "        x = dataset[:, 0] # Get the input data\n",
        "        y = dataset[:, 1]# Get the target data\n",
        "        loss_sum = 0  \n",
        "\n",
        "        for j in range(num_batch): # Iterate over mini-batches of dataset\n",
        "            x_batch = x[batch_size * j: batch_size * (j+1)]    # Get a mini-batch of input data x\n",
        "            y_batch = y[batch_size * j: batch_size * (j+1)]   # Get a mini-batch of target data y\n",
        "            dw = np.mean(gradient(x_batch, w, y_batch)) # Compute gradient estimates ∇L(w) \n",
        "            w = w - eta* dw  # Update parameters using the formula  w←w−η∇w\n",
        "            loss_sum += loss(h(x_batch, w), y_batch) # Sum up losses of mini-batches \n",
        "\n",
        "        if (i % 5) == 0:\n",
        "            loss_avg.append(loss_sum / num_batch) # Get average of mimi-batch loss\n",
        "\n",
        "    return w, loss_avg\n",
        "            \n",
        "if __name__ == \"__main__\":\n",
        "  \n",
        "    # Dataset\n",
        "    dataset = np.array([[.2,  0.2],\n",
        "                        [.4,  0.35],\n",
        "                        [.6,  0.50],\n",
        "                        [.8,  0.85],\n",
        "                        [1.0, 1.00],\n",
        "                        [1.2, 1.10]])\n",
        "\n",
        "    batch_size = 3  # Size of mini-batch data\n",
        "    num_batch = int(dataset.shape[0]/batch_size)  # Number of mini-batches\n",
        "    loss_avg = [] # Loss average\n",
        "  \n",
        "    w, loss_avg = SGD(dataset, 50)\n",
        "\n",
        "    print(f'The value of parameter w:{w: .4f}')\n",
        "\n",
        "    # Show the average loss of mini-batch\n",
        "    plt.figure(figsize=(6, 4))\n",
        "    iter_count = range(1, len(loss_avg) + 1)\n",
        "    plt.plot(iter_count, loss_avg, 'b-')\n",
        "    plt.title('Loss vs iteration')\n",
        "    plt.legend(['Loss'])\n",
        "    plt.xlabel('Iteration x5')\n",
        "    plt.ylabel('Loss')\n",
        "    plt.show()\n"
      ],
      "metadata": {
        "colab": {
          "base_uri": "https://localhost:8080/",
          "height": 313
        },
        "id": "Qlj0TG63KeBE",
        "outputId": "6a32a77a-df47-4dc9-81b4-53fbe40384f7"
      },
      "execution_count": null,
      "outputs": [
        {
          "output_type": "stream",
          "name": "stdout",
          "text": [
            "The value of parameter w: 0.9528\n"
          ]
        },
        {
          "output_type": "display_data",
          "data": {
            "image/png": "[encoded data removed]",
            "text/plain": [
              "<Figure size 432x288 with 1 Axes>"
            ]
          },
          "metadata": {
            "needs_background": "light"
          }
        }
      ]
    },
    {
      "cell_type": "markdown",
      "source": [
        "<p align=\"justify\"> In the above SGD code, the inner for loop is repeated for each set of minibatches. The main difference from the function gradient_descent() described above is that the gradient is calculated for the samples in a minibatch, i.e., x_batch and y_batch, instead of for all samples x and y. The performance is measured with average loss of mini-batch per iteration. The average loss is calculated, every 5 iterations. \n",
        "The performance shows that the loss drastically reduces to near zero afer 20 iterations, where the optimal value of weight is 0.9528. You can test the performance of SGD by varing the batch size. If the batch_size is set 6, i.e., with BGD, the result will be the same as you got with gradient_descent(). If the batch_size is set 1, it is called as stochastic gradient descent (SGD). Between batch_sizes 1 and 6, there can be two batch_sizes possible: 2 and 3, which corresponds to Mini-batch SGD. \n",
        "In setting mini-batch size, larger mini-batches is more  computationally more expensive, less frequent updates, lower gradient variance, and more parallelizable. SGD with larger batch size may generalize more poorly  <a rel=\"canonical\" href=\"https://arxiv.org/pdf/1609.04836.pdf\">keska.et.al</a>, but can be made to work well by carefully controlling the learning rate and other optimization technique  <a rel=\"canonical\" href=\"https://arxiv.org/pdf/1609.04836.pdf\">goyal.et.al.</a>\n",
        "\n",
        "In Exercise, you can compare the performance of SGD, Mini-batch SGD, and BGD by varing the batch size.</p>"
      ],
      "metadata": {
        "id": "ZsqlrhKHNQv7"
      }
    },
    {
      "cell_type": "markdown",
      "source": [
        "### Exercise: Compare loss and weight for differenct mini-batch sizes: 1, 2, 3, 6."
      ],
      "metadata": {
        "id": "dBi-uHZhJhZS"
      }
    },
    {
      "cell_type": "markdown",
      "source": [
        "###Exercise: With the simple example described above, get the optimal solution analytically, and compare the analytic solution with the optimal solution obtained by SGD."
      ],
      "metadata": {
        "id": "JV3cjk54rPCl"
      }
    },
    {
      "cell_type": "code",
      "source": [
        "# Analytic solution: calculate the optimal weight analytically\n",
        "\n",
        "import numpy as np\n",
        "import matplotlib.pyplot as plt\n",
        " \n",
        "def estimate_coef(x, y):\n",
        "    # number of observations/points\n",
        "    n = np.size(x)\n",
        " \n",
        "    # mean of x and y vector\n",
        "    m_x = np.mean(x)\n",
        "    m_y = np.mean(y)\n",
        " \n",
        "    # calculating cross-deviation and deviation about x\n",
        "    SS_xy = np.sum(y*x) - n*m_y*m_x\n",
        "    SS_xx = np.sum(x*x) - n*m_x*m_x \n",
        "    \n",
        "    # calculating regression coefficients\n",
        "    w = SS_xy / SS_xx  \n",
        "    return w \n",
        " \n",
        "def plot_regression_line(x, y, w):\n",
        " \n",
        "    # predicted response vector\n",
        "    y_analytic =  w*x \n",
        "    y_sgd = 0.9560*x\n",
        "\n",
        "    plt.figure(figsize=(6, 4)) \n",
        "    plt.scatter(x, y, color = \"m\",  marker = \"o\", s = 30)\n",
        "    plt.title('year(x) vs salary(y)')\n",
        "   # plotting the regression line\n",
        "    plt.plot(x, y_analytic, 'r--', label='Analytic')    \n",
        "    plt.plot(x, y_sgd, color = \"g\", label='SGD')\n",
        "    plt.legend(loc=0)\n",
        "    plt.xlabel('x')\n",
        "    plt.ylabel('y')\n",
        "    plt.show()\n",
        "\n",
        "def main():\n",
        "    # dataset\n",
        "    dataset = np.array([[.2,  0.2],\n",
        "                        [.4,  0.35],\n",
        "                        [.6,  0.50],\n",
        "                        [.8,  0.85],\n",
        "                        [1.0, 1.00],\n",
        "                        [1.2, 1.10]])\n",
        "\n",
        "    x = dataset[:, 0]\n",
        "    y = dataset[:, 1]\n",
        " \n",
        "    # estimating coefficients\n",
        "    w = estimate_coef(x, y)\n",
        "    print(f'Optimal weight: {w: .4f}')  \n",
        " \n",
        "    # plotting regression line\n",
        "    plot_regression_line(x, y, w)\n",
        " \n",
        "if __name__ == \"__main__\":\n",
        "    main()"
      ],
      "metadata": {
        "colab": {
          "base_uri": "https://localhost:8080/",
          "height": 313
        },
        "id": "vZEVXRk0wAlW",
        "outputId": "af6c2602-931c-4507-eb29-31e21d11b028"
      },
      "execution_count": null,
      "outputs": [
        {
          "output_type": "stream",
          "name": "stdout",
          "text": [
            "Optimal weight:  0.9714\n"
          ]
        },
        {
          "output_type": "display_data",
          "data": {
            "image/png": "[encoded data removed]",
            "text/plain": [
              "<Figure size 432x288 with 1 Axes>"
            ]
          },
          "metadata": {
            "needs_background": "light"
          }
        }
      ]
    },
    {
      "cell_type": "markdown",
      "source": [
        "## Exercise\n",
        "Implement a multiplier by chainging the dataset of the linear regression code described above. The multiplier that you are going to build only gives answers to multiple of 3 between 1 and 10,000: 3x1, 3x2, .... 3x10,000. Hint: you only need two values to build the multiplier: the lowest and the largest numbers."
      ],
      "metadata": {
        "id": "ZxPS0a5Gaexc"
      }
    },
    {
      "cell_type": "code",
      "source": [
        ""
      ],
      "metadata": {
        "id": "_bZtltvLcBqn"
      },
      "execution_count": null,
      "outputs": []
    },
    {
      "cell_type": "markdown",
      "source": [
        "##SGD in Keras, Pytorch and other deep learning platforms\n",
        "<p align=\"justify\">As mentioned before, stochastic gradient descent(SGD) used in open deep learning platform actually implements a mini-batch SGD, since it is a general form of SGD. SGD is widely used to train neural networks. It is known that SGD has trouble navigating ravines, where it oscillates across the slopes of the ravine, and progressing slowly down to the minimum point[ ]. It has other limitation such as getting trapped in saddle point of search space[ ].There have been developed many optimization techniques to overcome these SGD limitations, which include Adam, Adagrad, Adadelta and RMSProp. The deep learning libraries for neural networks such as Keras, Pytorch and others often have different variants of SGD optimization algorithm. These optimization libraries are usually called internally when neural network software is trained. However, you can use them independently as well.\n",
        "</p>"
      ],
      "metadata": {
        "id": "vr6zwEyJ39Ju"
      }
    }
  ],
  "metadata": {
    "kernelspec": {
      "display_name": "Python 3",
      "language": "python",
      "name": "python3"
    },
    "language_info": {
      "codemirror_mode": {
        "name": "ipython",
        "version": 3
      },
      "file_extension": ".py",
      "mimetype": "text/x-python",
      "name": "python",
      "nbconvert_exporter": "python",
      "pygments_lexer": "ipython3",
      "version": "3.9.4"
    },
    "colab": {
      "name": "SGD_Practice.ipynb",
      "provenance": [],
      "collapsed_sections": [],
      "include_colab_link": true
    }
  },
  "nbformat": 4,
  "nbformat_minor": 0
}